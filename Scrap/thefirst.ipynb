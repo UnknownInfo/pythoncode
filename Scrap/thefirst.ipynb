{
 "cells": [
  {
   "cell_type": "code",
   "execution_count": null,
   "metadata": {},
   "outputs": [],
   "source": [
    "pip install requests lxml autopep8 scrapy\n"
   ]
  },
  {
   "cell_type": "code",
   "execution_count": 53,
   "metadata": {},
   "outputs": [],
   "source": [
    "import requests\n",
    "import lxml.html as html\n",
    "import os\n",
    "import datetime\n"
   ]
  },
  {
   "cell_type": "code",
   "execution_count": 35,
   "metadata": {},
   "outputs": [],
   "source": [
    "XPATH_LINK_TO_ARTICLE = '//div[contains(@class, \"V\")]/a[contains(@class, \"kicker\")]/@href'\n",
    "XPATH_TITLE = '/html/body/div/div/div/div/div/div/div/div/div/h2/a/text()'\n",
    "XPATH_CONTENT = '//div[@class=\"html-content\"]/p[not(@class)]'\n",
    "XPATH_SUMMARY = '/html/body/div[1]/div/main/div[1]/div[3]/article/header/div[3]/p'\n",
    "HOME_URL = \"https://www.larepublica.co/\""
   ]
  },
  {
   "cell_type": "code",
   "execution_count": 58,
   "metadata": {},
   "outputs": [
    {
     "ename": "SyntaxError",
     "evalue": "unexpected EOF while parsing (Temp/ipykernel_20224/937144731.py, line 15)",
     "output_type": "error",
     "traceback": [
      "\u001b[1;36m  File \u001b[1;32m\"C:\\Users\\CRISTI~1\\AppData\\Local\\Temp/ipykernel_20224/937144731.py\"\u001b[1;36m, line \u001b[1;32m15\u001b[0m\n\u001b[1;33m    return\u001b[0m\n\u001b[1;37m          ^\u001b[0m\n\u001b[1;31mSyntaxError\u001b[0m\u001b[1;31m:\u001b[0m unexpected EOF while parsing\n"
     ]
    }
   ],
   "source": [
    "def parse_notice(link,today):\n",
    "    try:\n",
    "        response=requests.get(link)\n",
    "        if response.status_code==200:\n",
    "            notice=response.content.decode('utf-8')\n",
    "            parsed=html.fromstring(notice)\n",
    "            \n",
    "        try:\n",
    "                tittle=parsed.xpath(XPATH_TITTLE)[0]\n",
    "                print(tittle)\n",
    "                tittle=tittle.replace('\\\"','')\n",
    "                summary=parsed.xpath(XPATH_SUMMARY)[0]\n",
    "                body=parsed.xpath(XPTAH_BODY)\n",
    "        except IndexError:\n",
    "            return"
   ]
  },
  {
   "cell_type": "code",
   "execution_count": 56,
   "metadata": {},
   "outputs": [],
   "source": [
    "def parse_home():\n",
    "    try:\n",
    "        response = requests.get(HOME_URL)\n",
    "        if response.status_code == 200:\n",
    "            home = response.content.decode('utf-8')\n",
    "            parsed = html.fromstring(home)\n",
    "            link_to_notices = parsed.xpath(XPATH_LINK_TO_ARTICLE)\n",
    "           # print(link_to_notices)\n",
    "            today=datetime.date.today().strftime('%d-%m-%Y')\n",
    "            if not os.path.isdir(today):\n",
    "                os.mkdir(today)\n",
    "                \n",
    "        else:\n",
    "            raise valuerror(f'Error {response.status_code}')\n",
    "    except ValueError as ve: \n",
    "        \n",
    "        print(ve)\n",
    "\n",
    "\n",
    "def run():\n",
    "    parse_home()\n",
    "\n",
    "#if __name__ == '__main__:'\n",
    "#    run()    "
   ]
  },
  {
   "cell_type": "code",
   "execution_count": 52,
   "metadata": {},
   "outputs": [],
   "source": [
    "dict = run()\n"
   ]
  },
  {
   "cell_type": "code",
   "execution_count": 1,
   "metadata": {},
   "outputs": [
    {
     "name": "stdout",
     "output_type": "stream",
     "text": [
      "Requirement already satisfied: scrapy in c:\\users\\cristian gutierrez\\appdata\\local\\programs\\python\\python38\\lib\\site-packages (2.5.1)\n",
      "Requirement already satisfied: service-identity>=16.0.0 in c:\\users\\cristian gutierrez\\appdata\\local\\programs\\python\\python38\\lib\\site-packages (from scrapy) (21.1.0)\n",
      "Requirement already satisfied: itemloaders>=1.0.1 in c:\\users\\cristian gutierrez\\appdata\\local\\programs\\python\\python38\\lib\\site-packages (from scrapy) (1.0.4)\n",
      "Requirement already satisfied: zope.interface>=4.1.3 in c:\\users\\cristian gutierrez\\appdata\\local\\programs\\python\\python38\\lib\\site-packages (from scrapy) (5.4.0)\n",
      "Requirement already satisfied: queuelib>=1.4.2 in c:\\users\\cristian gutierrez\\appdata\\local\\programs\\python\\python38\\lib\\site-packages (from scrapy) (1.6.2)\n",
      "Requirement already satisfied: cryptography>=2.0 in c:\\users\\cristian gutierrez\\appdata\\local\\programs\\python\\python38\\lib\\site-packages (from scrapy) (36.0.1)\n",
      "Requirement already satisfied: h2<4.0,>=3.0 in c:\\users\\cristian gutierrez\\appdata\\local\\programs\\python\\python38\\lib\\site-packages (from scrapy) (3.2.0)\n",
      "Requirement already satisfied: parsel>=1.5.0 in c:\\users\\cristian gutierrez\\appdata\\local\\programs\\python\\python38\\lib\\site-packages (from scrapy) (1.6.0)\n",
      "Requirement already satisfied: w3lib>=1.17.0 in c:\\users\\cristian gutierrez\\appdata\\local\\programs\\python\\python38\\lib\\site-packages (from scrapy) (1.22.0)\n",
      "Requirement already satisfied: PyDispatcher>=2.0.5 in c:\\users\\cristian gutierrez\\appdata\\local\\programs\\python\\python38\\lib\\site-packages (from scrapy) (2.0.5)\n",
      "Requirement already satisfied: protego>=0.1.15 in c:\\users\\cristian gutierrez\\appdata\\local\\programs\\python\\python38\\lib\\site-packages (from scrapy) (0.1.16)\n",
      "Requirement already satisfied: itemadapter>=0.1.0 in c:\\users\\cristian gutierrez\\appdata\\local\\programs\\python\\python38\\lib\\site-packages (from scrapy) (0.4.0)\n",
      "Requirement already satisfied: lxml>=3.5.0 in c:\\users\\cristian gutierrez\\appdata\\local\\programs\\python\\python38\\lib\\site-packages (from scrapy) (4.7.1)\n",
      "Requirement already satisfied: Twisted[http2]>=17.9.0 in c:\\users\\cristian gutierrez\\appdata\\local\\programs\\python\\python38\\lib\\site-packages (from scrapy) (21.7.0)\n",
      "Requirement already satisfied: pyOpenSSL>=16.2.0 in c:\\users\\cristian gutierrez\\appdata\\local\\programs\\python\\python38\\lib\\site-packages (from scrapy) (22.0.0)\n",
      "Requirement already satisfied: cssselect>=0.9.1 in c:\\users\\cristian gutierrez\\appdata\\local\\programs\\python\\python38\\lib\\site-packages (from scrapy) (1.1.0)\n",
      "Requirement already satisfied: cffi>=1.12 in c:\\users\\cristian gutierrez\\appdata\\local\\programs\\python\\python38\\lib\\site-packages (from cryptography>=2.0->scrapy) (1.15.0)\n",
      "Requirement already satisfied: pycparser in c:\\users\\cristian gutierrez\\appdata\\local\\programs\\python\\python38\\lib\\site-packages (from cffi>=1.12->cryptography>=2.0->scrapy) (2.21)\n",
      "Requirement already satisfied: hyperframe<6,>=5.2.0 in c:\\users\\cristian gutierrez\\appdata\\local\\programs\\python\\python38\\lib\\site-packages (from h2<4.0,>=3.0->scrapy) (5.2.0)\n",
      "Requirement already satisfied: hpack<4,>=3.0 in c:\\users\\cristian gutierrez\\appdata\\local\\programs\\python\\python38\\lib\\site-packages (from h2<4.0,>=3.0->scrapy) (3.0.0)\n",
      "Requirement already satisfied: jmespath>=0.9.5 in c:\\users\\cristian gutierrez\\appdata\\local\\programs\\python\\python38\\lib\\site-packages (from itemloaders>=1.0.1->scrapy) (0.10.0)\n",
      "Requirement already satisfied: six>=1.6.0 in c:\\users\\cristian gutierrez\\appdata\\local\\programs\\python\\python38\\lib\\site-packages (from parsel>=1.5.0->scrapy) (1.16.0)\n",
      "Requirement already satisfied: pyasn1 in c:\\users\\cristian gutierrez\\appdata\\local\\programs\\python\\python38\\lib\\site-packages (from service-identity>=16.0.0->scrapy) (0.4.8)\n",
      "Requirement already satisfied: pyasn1-modules in c:\\users\\cristian gutierrez\\appdata\\local\\programs\\python\\python38\\lib\\site-packages (from service-identity>=16.0.0->scrapy) (0.2.8)\n",
      "Requirement already satisfied: attrs>=19.1.0 in c:\\users\\cristian gutierrez\\appdata\\local\\programs\\python\\python38\\lib\\site-packages (from service-identity>=16.0.0->scrapy) (21.4.0)\n",
      "Requirement already satisfied: hyperlink>=17.1.1 in c:\\users\\cristian gutierrez\\appdata\\local\\programs\\python\\python38\\lib\\site-packages (from Twisted[http2]>=17.9.0->scrapy) (21.0.0)\n",
      "Requirement already satisfied: constantly>=15.1 in c:\\users\\cristian gutierrez\\appdata\\local\\programs\\python\\python38\\lib\\site-packages (from Twisted[http2]>=17.9.0->scrapy) (15.1.0)\n",
      "Requirement already satisfied: incremental>=21.3.0 in c:\\users\\cristian gutierrez\\appdata\\local\\programs\\python\\python38\\lib\\site-packages (from Twisted[http2]>=17.9.0->scrapy) (21.3.0)\n",
      "Requirement already satisfied: Automat>=0.8.0 in c:\\users\\cristian gutierrez\\appdata\\local\\programs\\python\\python38\\lib\\site-packages (from Twisted[http2]>=17.9.0->scrapy) (20.2.0)\n",
      "Requirement already satisfied: twisted-iocpsupport~=1.0.0 in c:\\users\\cristian gutierrez\\appdata\\local\\programs\\python\\python38\\lib\\site-packages (from Twisted[http2]>=17.9.0->scrapy) (1.0.2)\n",
      "Requirement already satisfied: typing-extensions>=3.6.5 in c:\\users\\cristian gutierrez\\appdata\\local\\programs\\python\\python38\\lib\\site-packages (from Twisted[http2]>=17.9.0->scrapy) (4.0.1)\n",
      "Requirement already satisfied: priority<2.0,>=1.1.0 in c:\\users\\cristian gutierrez\\appdata\\local\\programs\\python\\python38\\lib\\site-packages (from Twisted[http2]>=17.9.0->scrapy) (1.3.0)\n",
      "Requirement already satisfied: idna>=2.5 in c:\\users\\cristian gutierrez\\appdata\\local\\programs\\python\\python38\\lib\\site-packages (from hyperlink>=17.1.1->Twisted[http2]>=17.9.0->scrapy) (3.3)\n",
      "Requirement already satisfied: setuptools in c:\\users\\cristian gutierrez\\appdata\\local\\programs\\python\\python38\\lib\\site-packages (from zope.interface>=4.1.3->scrapy) (49.2.1)\n",
      "Note: you may need to restart the kernel to use updated packages.\n"
     ]
    },
    {
     "name": "stderr",
     "output_type": "stream",
     "text": [
      "WARNING: You are using pip version 21.0.1; however, version 22.0.2 is available.\n",
      "You should consider upgrading via the 'C:\\Users\\Cristian Gutierrez\\AppData\\Local\\Programs\\Python\\Python38\\python.exe -m pip install --upgrade pip' command.\n"
     ]
    }
   ],
   "source": [
    "pip install scrapy"
   ]
  },
  {
   "cell_type": "code",
   "execution_count": 2,
   "metadata": {},
   "outputs": [
    {
     "ename": "SyntaxError",
     "evalue": "invalid syntax (Temp/ipykernel_9792/1387980765.py, line 1)",
     "output_type": "error",
     "traceback": [
      "\u001b[1;36m  File \u001b[1;32m\"C:\\Users\\CRISTI~1\\AppData\\Local\\Temp/ipykernel_9792/1387980765.py\"\u001b[1;36m, line \u001b[1;32m1\u001b[0m\n\u001b[1;33m    scrapy startproject tutorial\u001b[0m\n\u001b[1;37m           ^\u001b[0m\n\u001b[1;31mSyntaxError\u001b[0m\u001b[1;31m:\u001b[0m invalid syntax\n"
     ]
    }
   ],
   "source": [
    "scrapy startproject tutorial"
   ]
  },
  {
   "cell_type": "code",
   "execution_count": null,
   "metadata": {},
   "outputs": [],
   "source": []
  }
 ],
 "metadata": {
  "interpreter": {
   "hash": "ed225720166559e7176d3793db16a2fd8d295f725007103b21ac3099d2a89ee8"
  },
  "kernelspec": {
   "display_name": "Python 3.8.5 64-bit ('base': conda)",
   "language": "python",
   "name": "python3"
  },
  "language_info": {
   "codemirror_mode": {
    "name": "ipython",
    "version": 3
   },
   "file_extension": ".py",
   "mimetype": "text/x-python",
   "name": "python",
   "nbconvert_exporter": "python",
   "pygments_lexer": "ipython3",
   "version": "3.8.7"
  },
  "orig_nbformat": 4
 },
 "nbformat": 4,
 "nbformat_minor": 2
}
